{
  "nbformat": 4,
  "nbformat_minor": 0,
  "metadata": {
    "colab": {
      "name": "pytorch_basics.ipynb",
      "provenance": [],
      "toc_visible": true
    },
    "kernelspec": {
      "name": "python3",
      "display_name": "Python 3"
    },
    "accelerator": "GPU"
  },
  "cells": [
    {
      "cell_type": "markdown",
      "metadata": {
        "id": "XpmMgAzW-_Pz",
        "colab_type": "text"
      },
      "source": [
        "**Note**: Some of the code examples are digested from \n",
        "\n",
        "1. [Deep Learning with PyTorch: A 60 Minute Blitz](https://pytorch.org/tutorials/beginner/deep_learning_60min_blitz.html) \n",
        "2. [Github repo](https://github.com/deep-learning-with-pytorch/dlwpt-code) for \"Deep Learning with PyTorch\""
      ]
    },
    {
      "cell_type": "code",
      "metadata": {
        "id": "r22pYH7zYqZm",
        "colab_type": "code",
        "outputId": "4070c4c7-6668-4a5e-fd7c-97488c56a376",
        "colab": {
          "base_uri": "https://localhost:8080/",
          "height": 34
        }
      },
      "source": [
        "from __future__ import print_function\n",
        "import torch\n",
        "print(torch.__version__)"
      ],
      "execution_count": 0,
      "outputs": [
        {
          "output_type": "stream",
          "text": [
            "1.4.0\n"
          ],
          "name": "stdout"
        }
      ]
    },
    {
      "cell_type": "code",
      "metadata": {
        "id": "GXer5iQhvrV5",
        "colab_type": "code",
        "outputId": "7e10a21c-035f-4a17-c24e-f7c52a4e4695",
        "colab": {
          "base_uri": "https://localhost:8080/",
          "height": 34
        }
      },
      "source": [
        "device = torch.device(\"cuda:0\" if torch.cuda.is_available() else \"cpu\")\n",
        "print(device)"
      ],
      "execution_count": 0,
      "outputs": [
        {
          "output_type": "stream",
          "text": [
            "cuda:0\n"
          ],
          "name": "stdout"
        }
      ]
    },
    {
      "cell_type": "markdown",
      "metadata": {
        "id": "0UodTj2pdi1O",
        "colab_type": "text"
      },
      "source": [
        "# Tensor Basics"
      ]
    },
    {
      "cell_type": "markdown",
      "metadata": {
        "id": "WseF3aond2hV",
        "colab_type": "text"
      },
      "source": [
        "### Initialization "
      ]
    },
    {
      "cell_type": "code",
      "metadata": {
        "id": "lRWYc7QpZL8X",
        "colab_type": "code",
        "outputId": "2b503649-4771-4be0-8bdd-9983f78d8923",
        "colab": {
          "base_uri": "https://localhost:8080/",
          "height": 102
        }
      },
      "source": [
        "# Construct a 5x3 matrix, uninitialized\n",
        "x = torch.empty(5, 3)\n",
        "print(x)"
      ],
      "execution_count": 0,
      "outputs": [
        {
          "output_type": "stream",
          "text": [
            "tensor([[2.6049e-36, 0.0000e+00, 0.0000e+00],\n",
            "        [0.0000e+00, 0.0000e+00, 0.0000e+00],\n",
            "        [0.0000e+00, 0.0000e+00, 2.8026e-45],\n",
            "        [0.0000e+00, 1.1210e-44, 0.0000e+00],\n",
            "        [1.4013e-45, 0.0000e+00, 0.0000e+00]])\n"
          ],
          "name": "stdout"
        }
      ]
    },
    {
      "cell_type": "code",
      "metadata": {
        "id": "WJDiat4XZ46Z",
        "colab_type": "code",
        "outputId": "82ef577d-d9b6-4f63-b926-46b0ff58685d",
        "colab": {
          "base_uri": "https://localhost:8080/",
          "height": 34
        }
      },
      "source": [
        "x.shape"
      ],
      "execution_count": 0,
      "outputs": [
        {
          "output_type": "execute_result",
          "data": {
            "text/plain": [
              "torch.Size([5, 3])"
            ]
          },
          "metadata": {
            "tags": []
          },
          "execution_count": 4
        }
      ]
    },
    {
      "cell_type": "code",
      "metadata": {
        "id": "_2Y1mToyY2i-",
        "colab_type": "code",
        "outputId": "b8623386-4b2a-4e74-e050-0c924af7694c",
        "colab": {
          "base_uri": "https://localhost:8080/",
          "height": 34
        }
      },
      "source": [
        "a = torch.ones(3, dtype=torch.long)\n",
        "a"
      ],
      "execution_count": 0,
      "outputs": [
        {
          "output_type": "execute_result",
          "data": {
            "text/plain": [
              "tensor([1, 1, 1])"
            ]
          },
          "metadata": {
            "tags": []
          },
          "execution_count": 5
        }
      ]
    },
    {
      "cell_type": "code",
      "metadata": {
        "id": "Qc3LEFROeNry",
        "colab_type": "code",
        "outputId": "f11079e4-1be9-4773-df5e-be0210d09c0d",
        "colab": {
          "base_uri": "https://localhost:8080/",
          "height": 34
        }
      },
      "source": [
        "x = torch.tensor([5.5, 3])\n",
        "x"
      ],
      "execution_count": 0,
      "outputs": [
        {
          "output_type": "execute_result",
          "data": {
            "text/plain": [
              "tensor([5.5000, 3.0000])"
            ]
          },
          "metadata": {
            "tags": []
          },
          "execution_count": 6
        }
      ]
    },
    {
      "cell_type": "code",
      "metadata": {
        "id": "PvKlP8QteWR0",
        "colab_type": "code",
        "outputId": "56ef3e68-63c8-4225-a5b0-d4452f4ffec5",
        "colab": {
          "base_uri": "https://localhost:8080/",
          "height": 102
        }
      },
      "source": [
        "# Creating a tensor based on an existing tensor. These methods will reuse properties of the input tensor, e.g. dtype\n",
        "x = x.new_ones(5, 3, dtype=torch.double) # new_* methods take in sizes\n",
        "x"
      ],
      "execution_count": 0,
      "outputs": [
        {
          "output_type": "execute_result",
          "data": {
            "text/plain": [
              "tensor([[1., 1., 1.],\n",
              "        [1., 1., 1.],\n",
              "        [1., 1., 1.],\n",
              "        [1., 1., 1.],\n",
              "        [1., 1., 1.]], dtype=torch.float64)"
            ]
          },
          "metadata": {
            "tags": []
          },
          "execution_count": 7
        }
      ]
    },
    {
      "cell_type": "code",
      "metadata": {
        "id": "rJiKyA52erYM",
        "colab_type": "code",
        "outputId": "5196b2ac-8543-444b-a523-76bb3c7f4f5f",
        "colab": {
          "base_uri": "https://localhost:8080/",
          "height": 102
        }
      },
      "source": [
        "x = torch.randn_like(x, dtype=torch.float)    # override dtype!\n",
        "x"
      ],
      "execution_count": 0,
      "outputs": [
        {
          "output_type": "execute_result",
          "data": {
            "text/plain": [
              "tensor([[-2.4665, -0.8620,  0.6566],\n",
              "        [-0.9680,  1.4343, -0.6784],\n",
              "        [-1.2768,  0.3056, -1.1278],\n",
              "        [ 0.9823,  0.5422,  0.0210],\n",
              "        [ 1.4399,  0.9847, -0.6442]])"
            ]
          },
          "metadata": {
            "tags": []
          },
          "execution_count": 8
        }
      ]
    },
    {
      "cell_type": "code",
      "metadata": {
        "id": "5tMPFXiQfHZt",
        "colab_type": "code",
        "colab": {}
      },
      "source": [
        "y = torch.rand(5, 3)"
      ],
      "execution_count": 0,
      "outputs": []
    },
    {
      "cell_type": "markdown",
      "metadata": {
        "id": "96duNhqce_fX",
        "colab_type": "text"
      },
      "source": [
        "### Operations"
      ]
    },
    {
      "cell_type": "code",
      "metadata": {
        "id": "LODj3Hkje-2r",
        "colab_type": "code",
        "outputId": "eb4b2549-2a96-4120-8320-9283be840696",
        "colab": {
          "base_uri": "https://localhost:8080/",
          "height": 102
        }
      },
      "source": [
        "x + y"
      ],
      "execution_count": 0,
      "outputs": [
        {
          "output_type": "execute_result",
          "data": {
            "text/plain": [
              "tensor([[-1.5298, -0.7701,  1.5257],\n",
              "        [-0.7622,  1.7915,  0.2324],\n",
              "        [-0.5248,  0.9496, -0.9960],\n",
              "        [ 1.1242,  1.0665,  0.4879],\n",
              "        [ 2.2995,  1.5009,  0.2495]])"
            ]
          },
          "metadata": {
            "tags": []
          },
          "execution_count": 10
        }
      ]
    },
    {
      "cell_type": "code",
      "metadata": {
        "id": "vmWkEqslfMGf",
        "colab_type": "code",
        "outputId": "61b3662e-4451-4aaf-8ab2-ecbea02dadfe",
        "colab": {
          "base_uri": "https://localhost:8080/",
          "height": 102
        }
      },
      "source": [
        "torch.add(x, y)"
      ],
      "execution_count": 0,
      "outputs": [
        {
          "output_type": "execute_result",
          "data": {
            "text/plain": [
              "tensor([[-1.5298, -0.7701,  1.5257],\n",
              "        [-0.7622,  1.7915,  0.2324],\n",
              "        [-0.5248,  0.9496, -0.9960],\n",
              "        [ 1.1242,  1.0665,  0.4879],\n",
              "        [ 2.2995,  1.5009,  0.2495]])"
            ]
          },
          "metadata": {
            "tags": []
          },
          "execution_count": 11
        }
      ]
    },
    {
      "cell_type": "code",
      "metadata": {
        "id": "gBO68XDUfQJ9",
        "colab_type": "code",
        "outputId": "f8e15cbb-1720-4daf-8339-a3010ccd070e",
        "colab": {
          "base_uri": "https://localhost:8080/",
          "height": 102
        }
      },
      "source": [
        "result = torch.empty(5, 3)\n",
        "torch.add(x, y, out=result)\n",
        "result"
      ],
      "execution_count": 0,
      "outputs": [
        {
          "output_type": "execute_result",
          "data": {
            "text/plain": [
              "tensor([[-1.5298, -0.7701,  1.5257],\n",
              "        [-0.7622,  1.7915,  0.2324],\n",
              "        [-0.5248,  0.9496, -0.9960],\n",
              "        [ 1.1242,  1.0665,  0.4879],\n",
              "        [ 2.2995,  1.5009,  0.2495]])"
            ]
          },
          "metadata": {
            "tags": []
          },
          "execution_count": 12
        }
      ]
    },
    {
      "cell_type": "code",
      "metadata": {
        "id": "qf4MQlrHfYXL",
        "colab_type": "code",
        "outputId": "44c45f3d-9dc1-49a1-d9c8-e9b6e93601bf",
        "colab": {
          "base_uri": "https://localhost:8080/",
          "height": 102
        }
      },
      "source": [
        "y.add_(x)\n",
        "y"
      ],
      "execution_count": 0,
      "outputs": [
        {
          "output_type": "execute_result",
          "data": {
            "text/plain": [
              "tensor([[-1.5298, -0.7701,  1.5257],\n",
              "        [-0.7622,  1.7915,  0.2324],\n",
              "        [-0.5248,  0.9496, -0.9960],\n",
              "        [ 1.1242,  1.0665,  0.4879],\n",
              "        [ 2.2995,  1.5009,  0.2495]])"
            ]
          },
          "metadata": {
            "tags": []
          },
          "execution_count": 13
        }
      ]
    },
    {
      "cell_type": "markdown",
      "metadata": {
        "id": "NJ96AorCkMVY",
        "colab_type": "text"
      },
      "source": [
        "### Numpy Interchangability"
      ]
    },
    {
      "cell_type": "code",
      "metadata": {
        "id": "64_O4HBCjcML",
        "colab_type": "code",
        "outputId": "2b689b96-bf34-4cd2-85a4-9259cc753fa9",
        "colab": {
          "base_uri": "https://localhost:8080/",
          "height": 34
        }
      },
      "source": [
        "a = torch.ones(5)\n",
        "a"
      ],
      "execution_count": 0,
      "outputs": [
        {
          "output_type": "execute_result",
          "data": {
            "text/plain": [
              "tensor([1., 1., 1., 1., 1.])"
            ]
          },
          "metadata": {
            "tags": []
          },
          "execution_count": 14
        }
      ]
    },
    {
      "cell_type": "code",
      "metadata": {
        "id": "WFkfqzZVkTgc",
        "colab_type": "code",
        "outputId": "4a63c353-0bbe-41da-e614-5ac95241c865",
        "colab": {
          "base_uri": "https://localhost:8080/",
          "height": 34
        }
      },
      "source": [
        "b = a.numpy()\n",
        "b"
      ],
      "execution_count": 0,
      "outputs": [
        {
          "output_type": "execute_result",
          "data": {
            "text/plain": [
              "array([1., 1., 1., 1., 1.], dtype=float32)"
            ]
          },
          "metadata": {
            "tags": []
          },
          "execution_count": 15
        }
      ]
    },
    {
      "cell_type": "code",
      "metadata": {
        "id": "4vIm7NjHka4m",
        "colab_type": "code",
        "outputId": "ea1efe33-2d90-4d1b-dd5b-dd4e340bd128",
        "colab": {
          "base_uri": "https://localhost:8080/",
          "height": 51
        }
      },
      "source": [
        "a.add_(1)\n",
        "print(a)\n",
        "print(b)"
      ],
      "execution_count": 0,
      "outputs": [
        {
          "output_type": "stream",
          "text": [
            "tensor([2., 2., 2., 2., 2.])\n",
            "[2. 2. 2. 2. 2.]\n"
          ],
          "name": "stdout"
        }
      ]
    },
    {
      "cell_type": "code",
      "metadata": {
        "id": "lW5FKZKvknd3",
        "colab_type": "code",
        "outputId": "a8ac1717-eeae-417e-bf65-6448c4cb6978",
        "colab": {
          "base_uri": "https://localhost:8080/",
          "height": 51
        }
      },
      "source": [
        "import numpy as np\n",
        "a = np.ones(5)\n",
        "b = torch.from_numpy(a)\n",
        "np.add(a, 1, out=a)\n",
        "print(a)\n",
        "print(b)"
      ],
      "execution_count": 0,
      "outputs": [
        {
          "output_type": "stream",
          "text": [
            "[2. 2. 2. 2. 2.]\n",
            "tensor([2., 2., 2., 2., 2.], dtype=torch.float64)\n"
          ],
          "name": "stdout"
        }
      ]
    },
    {
      "cell_type": "markdown",
      "metadata": {
        "id": "I2-kqdv_dwkq",
        "colab_type": "text"
      },
      "source": [
        "### Storage and Views"
      ]
    },
    {
      "cell_type": "code",
      "metadata": {
        "id": "0WITOHsvZRNm",
        "colab_type": "code",
        "outputId": "118a9e56-207d-445b-fe1d-b13312903330",
        "colab": {
          "base_uri": "https://localhost:8080/",
          "height": 68
        }
      },
      "source": [
        "points = torch.FloatTensor([[4.0, 1.0], [5.0, 3.0], [2.0, 1.0]])\n",
        "points"
      ],
      "execution_count": 0,
      "outputs": [
        {
          "output_type": "execute_result",
          "data": {
            "text/plain": [
              "tensor([[4., 1.],\n",
              "        [5., 3.],\n",
              "        [2., 1.]])"
            ]
          },
          "metadata": {
            "tags": []
          },
          "execution_count": 18
        }
      ]
    },
    {
      "cell_type": "code",
      "metadata": {
        "id": "9wyoLlUHaqmg",
        "colab_type": "code",
        "outputId": "b7ac3718-346e-4db8-9c6b-5fdf13164f90",
        "colab": {
          "base_uri": "https://localhost:8080/",
          "height": 136
        }
      },
      "source": [
        "points.storage()"
      ],
      "execution_count": 0,
      "outputs": [
        {
          "output_type": "execute_result",
          "data": {
            "text/plain": [
              " 4.0\n",
              " 1.0\n",
              " 5.0\n",
              " 3.0\n",
              " 2.0\n",
              " 1.0\n",
              "[torch.FloatStorage of size 6]"
            ]
          },
          "metadata": {
            "tags": []
          },
          "execution_count": 19
        }
      ]
    },
    {
      "cell_type": "code",
      "metadata": {
        "id": "uriuYNIvaxUS",
        "colab_type": "code",
        "outputId": "7189e30e-c898-43e8-d6f8-e7a2565eed3d",
        "colab": {
          "base_uri": "https://localhost:8080/",
          "height": 68
        }
      },
      "source": [
        "points_storage = points.storage()\n",
        "points_storage[0] = 2.0\n",
        "points"
      ],
      "execution_count": 0,
      "outputs": [
        {
          "output_type": "execute_result",
          "data": {
            "text/plain": [
              "tensor([[2., 1.],\n",
              "        [5., 3.],\n",
              "        [2., 1.]])"
            ]
          },
          "metadata": {
            "tags": []
          },
          "execution_count": 20
        }
      ]
    },
    {
      "cell_type": "code",
      "metadata": {
        "id": "7RMtISBYa5_n",
        "colab_type": "code",
        "outputId": "9c1c9624-8268-4b5c-a26e-3b47c3aa8119",
        "colab": {
          "base_uri": "https://localhost:8080/",
          "height": 34
        }
      },
      "source": [
        "points = torch.tensor([[4.0, 1.0], [5.0, 3.0], [2.0, 1.0]])\n",
        "second_point = points[1]\n",
        "second_point.storage_offset()"
      ],
      "execution_count": 0,
      "outputs": [
        {
          "output_type": "execute_result",
          "data": {
            "text/plain": [
              "2"
            ]
          },
          "metadata": {
            "tags": []
          },
          "execution_count": 21
        }
      ]
    },
    {
      "cell_type": "code",
      "metadata": {
        "id": "xsdW47Pabbra",
        "colab_type": "code",
        "outputId": "b130ee66-e1cc-49bd-a102-67d1ce7ca68c",
        "colab": {
          "base_uri": "https://localhost:8080/",
          "height": 34
        }
      },
      "source": [
        "second_point.size()"
      ],
      "execution_count": 0,
      "outputs": [
        {
          "output_type": "execute_result",
          "data": {
            "text/plain": [
              "torch.Size([2])"
            ]
          },
          "metadata": {
            "tags": []
          },
          "execution_count": 22
        }
      ]
    },
    {
      "cell_type": "code",
      "metadata": {
        "id": "u_R7wBGjbed_",
        "colab_type": "code",
        "outputId": "3e250518-b096-48b2-b78e-3eb80078a2ae",
        "colab": {
          "base_uri": "https://localhost:8080/",
          "height": 34
        }
      },
      "source": [
        "second_point.shape"
      ],
      "execution_count": 0,
      "outputs": [
        {
          "output_type": "execute_result",
          "data": {
            "text/plain": [
              "torch.Size([2])"
            ]
          },
          "metadata": {
            "tags": []
          },
          "execution_count": 23
        }
      ]
    },
    {
      "cell_type": "code",
      "metadata": {
        "id": "HRgKv1qbbhBe",
        "colab_type": "code",
        "outputId": "04bdedb5-ce47-44f6-a82f-b705df374621",
        "colab": {
          "base_uri": "https://localhost:8080/",
          "height": 34
        }
      },
      "source": [
        "# Stride is a tuple indicating the number of elements in the storage that have to be skipped when the index is increased by 1 in each dimension\n",
        "points.stride()"
      ],
      "execution_count": 0,
      "outputs": [
        {
          "output_type": "execute_result",
          "data": {
            "text/plain": [
              "(2, 1)"
            ]
          },
          "metadata": {
            "tags": []
          },
          "execution_count": 24
        }
      ]
    },
    {
      "cell_type": "code",
      "metadata": {
        "id": "uHzwUYQkbjxF",
        "colab_type": "code",
        "outputId": "ae112f12-2560-44df-f27b-03af6a524a17",
        "colab": {
          "base_uri": "https://localhost:8080/",
          "height": 34
        }
      },
      "source": [
        "second_point.stride()"
      ],
      "execution_count": 0,
      "outputs": [
        {
          "output_type": "execute_result",
          "data": {
            "text/plain": [
              "(1,)"
            ]
          },
          "metadata": {
            "tags": []
          },
          "execution_count": 25
        }
      ]
    },
    {
      "cell_type": "code",
      "metadata": {
        "id": "4IIiyEPWcrZL",
        "colab_type": "code",
        "outputId": "8f76c6fd-e5be-4b2a-9c8f-7f64d241c771",
        "colab": {
          "base_uri": "https://localhost:8080/",
          "height": 68
        }
      },
      "source": [
        "points = torch.tensor([[4.0, 1.0], [5.0, 3.0], [2.0, 1.0]])\n",
        "second_point = points[1].clone()\n",
        "second_point[0] = 10.0\n",
        "points"
      ],
      "execution_count": 0,
      "outputs": [
        {
          "output_type": "execute_result",
          "data": {
            "text/plain": [
              "tensor([[4., 1.],\n",
              "        [5., 3.],\n",
              "        [2., 1.]])"
            ]
          },
          "metadata": {
            "tags": []
          },
          "execution_count": 26
        }
      ]
    },
    {
      "cell_type": "code",
      "metadata": {
        "id": "xt1mYisncxVw",
        "colab_type": "code",
        "outputId": "a51543b4-ee86-433b-ba85-5fd880330252",
        "colab": {
          "base_uri": "https://localhost:8080/",
          "height": 51
        }
      },
      "source": [
        "points_t = points.t()\n",
        "points_t"
      ],
      "execution_count": 0,
      "outputs": [
        {
          "output_type": "execute_result",
          "data": {
            "text/plain": [
              "tensor([[4., 5., 2.],\n",
              "        [1., 3., 1.]])"
            ]
          },
          "metadata": {
            "tags": []
          },
          "execution_count": 27
        }
      ]
    },
    {
      "cell_type": "code",
      "metadata": {
        "id": "WRMf946Gc1tQ",
        "colab_type": "code",
        "outputId": "5281ccd5-d239-46c3-e33d-5925e9149c07",
        "colab": {
          "base_uri": "https://localhost:8080/",
          "height": 34
        }
      },
      "source": [
        "id(points.storage()) == id(points_t.storage())"
      ],
      "execution_count": 0,
      "outputs": [
        {
          "output_type": "execute_result",
          "data": {
            "text/plain": [
              "True"
            ]
          },
          "metadata": {
            "tags": []
          },
          "execution_count": 28
        }
      ]
    },
    {
      "cell_type": "code",
      "metadata": {
        "id": "r6NfsY4Wc6Rk",
        "colab_type": "code",
        "outputId": "701e8dc7-7121-4c62-ff8c-4331651abc42",
        "colab": {
          "base_uri": "https://localhost:8080/",
          "height": 34
        }
      },
      "source": [
        "points.stride()"
      ],
      "execution_count": 0,
      "outputs": [
        {
          "output_type": "execute_result",
          "data": {
            "text/plain": [
              "(2, 1)"
            ]
          },
          "metadata": {
            "tags": []
          },
          "execution_count": 29
        }
      ]
    },
    {
      "cell_type": "code",
      "metadata": {
        "id": "heWqLO2gc8bY",
        "colab_type": "code",
        "outputId": "ee8c3b2c-6955-4639-935d-e8ccb239177b",
        "colab": {
          "base_uri": "https://localhost:8080/",
          "height": 34
        }
      },
      "source": [
        "points_t.stride()"
      ],
      "execution_count": 0,
      "outputs": [
        {
          "output_type": "execute_result",
          "data": {
            "text/plain": [
              "(1, 2)"
            ]
          },
          "metadata": {
            "tags": []
          },
          "execution_count": 30
        }
      ]
    },
    {
      "cell_type": "code",
      "metadata": {
        "id": "r2wyM55jc-hK",
        "colab_type": "code",
        "outputId": "7945c411-8ce2-4d3d-8acf-d4bc4a15fb75",
        "colab": {
          "base_uri": "https://localhost:8080/",
          "height": 34
        }
      },
      "source": [
        "points.is_contiguous()"
      ],
      "execution_count": 0,
      "outputs": [
        {
          "output_type": "execute_result",
          "data": {
            "text/plain": [
              "True"
            ]
          },
          "metadata": {
            "tags": []
          },
          "execution_count": 31
        }
      ]
    },
    {
      "cell_type": "code",
      "metadata": {
        "id": "r119HXjEdEx8",
        "colab_type": "code",
        "outputId": "ad69a48d-5b1c-4e72-9320-93262d0db89e",
        "colab": {
          "base_uri": "https://localhost:8080/",
          "height": 34
        }
      },
      "source": [
        "points_t.is_contiguous()"
      ],
      "execution_count": 0,
      "outputs": [
        {
          "output_type": "execute_result",
          "data": {
            "text/plain": [
              "False"
            ]
          },
          "metadata": {
            "tags": []
          },
          "execution_count": 32
        }
      ]
    },
    {
      "cell_type": "code",
      "metadata": {
        "id": "Wbwyt4Q2jsOC",
        "colab_type": "code",
        "outputId": "ce66ab75-c39a-4da3-b09b-e28366735786",
        "colab": {
          "base_uri": "https://localhost:8080/",
          "height": 34
        }
      },
      "source": [
        "x = torch.randn(4, 4)\n",
        "y = x.view(16)\n",
        "z = x.view(-1, 8)  # the size -1 is inferred from other dimensions\n",
        "print(x.size(), y.size(), z.size())"
      ],
      "execution_count": 0,
      "outputs": [
        {
          "output_type": "stream",
          "text": [
            "torch.Size([4, 4]) torch.Size([16]) torch.Size([2, 8])\n"
          ],
          "name": "stdout"
        }
      ]
    },
    {
      "cell_type": "markdown",
      "metadata": {
        "id": "cCudreKkkzuZ",
        "colab_type": "text"
      },
      "source": [
        "### CUDA Tensors"
      ]
    },
    {
      "cell_type": "code",
      "metadata": {
        "id": "h8t2zwPAdG5e",
        "colab_type": "code",
        "outputId": "b343628e-ae28-4ff0-be1e-751e3807bbe4",
        "colab": {
          "base_uri": "https://localhost:8080/",
          "height": 153
        }
      },
      "source": [
        "if torch.cuda.is_available():\n",
        "    device = torch.device(\"cuda\")          # a CUDA device object\n",
        "    y = torch.ones_like(x, device=device)  # directly create a tensor on GPU\n",
        "    x = x.to(device)                       # or just use strings ``.to(\"cuda\")``\n",
        "    z = x + y\n",
        "    print(z)\n",
        "    print(z.to(\"cpu\", torch.double))       # ``.to`` can also change dtype together!"
      ],
      "execution_count": 0,
      "outputs": [
        {
          "output_type": "stream",
          "text": [
            "tensor([[ 1.5287,  0.2327,  2.7245,  2.3729],\n",
            "        [ 0.7942,  0.8341,  0.7933, -0.1406],\n",
            "        [ 0.1751,  1.4483,  0.1329,  1.9678],\n",
            "        [-0.5564,  0.6150,  1.3094, -0.5164]], device='cuda:0')\n",
            "tensor([[ 1.5287,  0.2327,  2.7245,  2.3729],\n",
            "        [ 0.7942,  0.8341,  0.7933, -0.1406],\n",
            "        [ 0.1751,  1.4483,  0.1329,  1.9678],\n",
            "        [-0.5564,  0.6150,  1.3094, -0.5164]], dtype=torch.float64)\n"
          ],
          "name": "stdout"
        }
      ]
    },
    {
      "cell_type": "markdown",
      "metadata": {
        "id": "Y7v33EK7mRkm",
        "colab_type": "text"
      },
      "source": [
        "# Autograd"
      ]
    },
    {
      "cell_type": "code",
      "metadata": {
        "id": "3PBoWP_Kmzxx",
        "colab_type": "code",
        "outputId": "0bd507d3-f7dd-4662-b944-b94aafd6e07a",
        "colab": {
          "base_uri": "https://localhost:8080/",
          "height": 34
        }
      },
      "source": [
        "a = torch.randn(2, 2)\n",
        "a = ((a * 3) / (a - 1))\n",
        "print(a.requires_grad)"
      ],
      "execution_count": 0,
      "outputs": [
        {
          "output_type": "stream",
          "text": [
            "False\n"
          ],
          "name": "stdout"
        }
      ]
    },
    {
      "cell_type": "code",
      "metadata": {
        "id": "DgW5AJApnNCS",
        "colab_type": "code",
        "outputId": "07bd71bf-ee37-49f1-ad35-f2342264ada6",
        "colab": {
          "base_uri": "https://localhost:8080/",
          "height": 34
        }
      },
      "source": [
        "a.requires_grad_(True)\n",
        "print(a.requires_grad)"
      ],
      "execution_count": 0,
      "outputs": [
        {
          "output_type": "stream",
          "text": [
            "True\n"
          ],
          "name": "stdout"
        }
      ]
    },
    {
      "cell_type": "code",
      "metadata": {
        "id": "umBswn4DnPoO",
        "colab_type": "code",
        "outputId": "3efa8279-f088-4f35-8209-19a7cd32b862",
        "colab": {
          "base_uri": "https://localhost:8080/",
          "height": 34
        }
      },
      "source": [
        "b = (a * a).sum()\n",
        "print(b.grad_fn)"
      ],
      "execution_count": 0,
      "outputs": [
        {
          "output_type": "stream",
          "text": [
            "<SumBackward0 object at 0x7f126f589dd8>\n"
          ],
          "name": "stdout"
        }
      ]
    },
    {
      "cell_type": "markdown",
      "metadata": {
        "id": "1-78hYueoYDt",
        "colab_type": "text"
      },
      "source": [
        "### Example for scaler-valued function"
      ]
    },
    {
      "cell_type": "code",
      "metadata": {
        "id": "CKYqi3wjmTkA",
        "colab_type": "code",
        "outputId": "f34fd16c-c7fb-49d0-c2c9-b11f5684e32e",
        "colab": {
          "base_uri": "https://localhost:8080/",
          "height": 51
        }
      },
      "source": [
        "x = torch.ones(2, 2, requires_grad=True)\n",
        "x"
      ],
      "execution_count": 0,
      "outputs": [
        {
          "output_type": "execute_result",
          "data": {
            "text/plain": [
              "tensor([[1., 1.],\n",
              "        [1., 1.]], requires_grad=True)"
            ]
          },
          "metadata": {
            "tags": []
          },
          "execution_count": 38
        }
      ]
    },
    {
      "cell_type": "code",
      "metadata": {
        "id": "sjWIsKf9mbUx",
        "colab_type": "code",
        "outputId": "7edefa6c-526c-46b4-cbdc-39cd01f7d50b",
        "colab": {
          "base_uri": "https://localhost:8080/",
          "height": 68
        }
      },
      "source": [
        "y = x + 2\n",
        "print(y)\n",
        "print(y.grad_fn) # .grad_fn attribute that references a Function"
      ],
      "execution_count": 0,
      "outputs": [
        {
          "output_type": "stream",
          "text": [
            "tensor([[3., 3.],\n",
            "        [3., 3.]], grad_fn=<AddBackward0>)\n",
            "<AddBackward0 object at 0x7f126f5970b8>\n"
          ],
          "name": "stdout"
        }
      ]
    },
    {
      "cell_type": "markdown",
      "metadata": {
        "id": "_vpNilJ_ofXm",
        "colab_type": "text"
      },
      "source": [
        "$$ out = \\frac{1}{4} \\sum_i 3(x_i + 2)^2 $$"
      ]
    },
    {
      "cell_type": "code",
      "metadata": {
        "id": "SE6WYqPimhJy",
        "colab_type": "code",
        "outputId": "3bb49270-171f-418e-9657-7ebaff0a8f7d",
        "colab": {
          "base_uri": "https://localhost:8080/",
          "height": 68
        }
      },
      "source": [
        "z = y * y * 3\n",
        "out = z.mean()\n",
        "print(z)\n",
        "print(out)"
      ],
      "execution_count": 0,
      "outputs": [
        {
          "output_type": "stream",
          "text": [
            "tensor([[27., 27.],\n",
            "        [27., 27.]], grad_fn=<MulBackward0>)\n",
            "tensor(27., grad_fn=<MeanBackward0>)\n"
          ],
          "name": "stdout"
        }
      ]
    },
    {
      "cell_type": "markdown",
      "metadata": {
        "id": "Y4yRQN5hpnd9",
        "colab_type": "text"
      },
      "source": [
        "$$ \\frac{d(out)}{dx} = \\frac{3}{2} (x_i + 2) $$"
      ]
    },
    {
      "cell_type": "code",
      "metadata": {
        "id": "39CLLcbBnSFB",
        "colab_type": "code",
        "colab": {}
      },
      "source": [
        "out.backward()  # same as out.backward(torch.tensor(1.))"
      ],
      "execution_count": 0,
      "outputs": []
    },
    {
      "cell_type": "code",
      "metadata": {
        "id": "XCZNmjaCnqsw",
        "colab_type": "code",
        "outputId": "1f509d98-1918-4b96-fa3e-16c12b71d18b",
        "colab": {
          "base_uri": "https://localhost:8080/",
          "height": 51
        }
      },
      "source": [
        "x.grad # = d(out)/dx"
      ],
      "execution_count": 0,
      "outputs": [
        {
          "output_type": "execute_result",
          "data": {
            "text/plain": [
              "tensor([[4.5000, 4.5000],\n",
              "        [4.5000, 4.5000]])"
            ]
          },
          "metadata": {
            "tags": []
          },
          "execution_count": 42
        }
      ]
    },
    {
      "cell_type": "markdown",
      "metadata": {
        "id": "J8hAcWHgq6oV",
        "colab_type": "text"
      },
      "source": [
        "### Example of non-scalar-output function"
      ]
    },
    {
      "cell_type": "markdown",
      "metadata": {
        "id": "MVn0pKxnrosP",
        "colab_type": "text"
      },
      "source": [
        "NOTE: `torch.autograd` is an engine for computing vector-Jacobian product:\n",
        "\n",
        "It means: if we have $\\vec{y}=f(\\vec{x})$, given any vector $v=\\left(\\begin{array}{ccc}\\frac{\\partial l}{\\partial y_{1}} & \\cdots & \\frac{\\partial l}{\\partial y_{m}}\\end{array}\\right)^{T}$, it can compute the gradient of $l$ with respect of $\\vec{x}$:\n",
        "\n",
        "$$\\begin{split}J^{T}\\cdot v=\\left(\\begin{array}{ccc}\n",
        " \\frac{\\partial y_{1}}{\\partial x_{1}} & \\cdots & \\frac{\\partial y_{m}}{\\partial x_{1}}\\\\\n",
        " \\vdots & \\ddots & \\vdots\\\\\n",
        " \\frac{\\partial y_{1}}{\\partial x_{n}} & \\cdots & \\frac{\\partial y_{m}}{\\partial x_{n}}\n",
        " \\end{array}\\right)\\left(\\begin{array}{c}\n",
        " \\frac{\\partial l}{\\partial y_{1}}\\\\\n",
        " \\vdots\\\\\n",
        " \\frac{\\partial l}{\\partial y_{m}}\n",
        " \\end{array}\\right)=\\left(\\begin{array}{c}\n",
        " \\frac{\\partial l}{\\partial x_{1}}\\\\\n",
        " \\vdots\\\\\n",
        " \\frac{\\partial l}{\\partial x_{n}}\n",
        " \\end{array}\\right)\\end{split} $$"
      ]
    },
    {
      "cell_type": "code",
      "metadata": {
        "id": "r7uP-QMrrKGk",
        "colab_type": "code",
        "outputId": "273b6859-10ad-496a-c289-6f723157c52f",
        "colab": {
          "base_uri": "https://localhost:8080/",
          "height": 51
        }
      },
      "source": [
        "x = torch.randn(3, requires_grad=True)\n",
        "y = x * 2\n",
        "while y.data.norm() < 1000:\n",
        "    y = y * 2\n",
        "print(x)\n",
        "print(y)"
      ],
      "execution_count": 0,
      "outputs": [
        {
          "output_type": "stream",
          "text": [
            "tensor([ 2.2370, -0.3741,  0.2617], requires_grad=True)\n",
            "tensor([1145.3496, -191.5556,  133.9785], grad_fn=<MulBackward0>)\n"
          ],
          "name": "stdout"
        }
      ]
    },
    {
      "cell_type": "code",
      "metadata": {
        "id": "uhpBhZ4su50G",
        "colab_type": "code",
        "outputId": "0463e7f5-7acf-4a2b-ee02-a22e2a73634e",
        "colab": {
          "base_uri": "https://localhost:8080/",
          "height": 34
        }
      },
      "source": [
        "v = torch.tensor([0.1, 1.0, 0.0001], dtype=torch.float)\n",
        "y.backward(v)\n",
        "print(x.grad)"
      ],
      "execution_count": 0,
      "outputs": [
        {
          "output_type": "stream",
          "text": [
            "tensor([5.1200e+01, 5.1200e+02, 5.1200e-02])\n"
          ],
          "name": "stdout"
        }
      ]
    },
    {
      "cell_type": "markdown",
      "metadata": {
        "id": "AmWG9fo6vms0",
        "colab_type": "text"
      },
      "source": [
        "### Stop autograd if needed"
      ]
    },
    {
      "cell_type": "code",
      "metadata": {
        "id": "KuBRBNhsu8th",
        "colab_type": "code",
        "outputId": "7f422155-62c5-415d-debd-a9a4c9e46542",
        "colab": {
          "base_uri": "https://localhost:8080/",
          "height": 68
        }
      },
      "source": [
        "print(x.requires_grad)\n",
        "print((x ** 2).requires_grad)\n",
        "\n",
        "with torch.no_grad():\n",
        "    print((x ** 2).requires_grad)"
      ],
      "execution_count": 0,
      "outputs": [
        {
          "output_type": "stream",
          "text": [
            "True\n",
            "True\n",
            "False\n"
          ],
          "name": "stdout"
        }
      ]
    },
    {
      "cell_type": "code",
      "metadata": {
        "id": "X4y7-PdFvrLb",
        "colab_type": "code",
        "outputId": "b4ad3a35-d527-44f1-d821-7fd1a8b56212",
        "colab": {
          "base_uri": "https://localhost:8080/",
          "height": 68
        }
      },
      "source": [
        "print(x.requires_grad)\n",
        "y = x.detach()\n",
        "print(y.requires_grad)\n",
        "print(x.eq(y).all())"
      ],
      "execution_count": 0,
      "outputs": [
        {
          "output_type": "stream",
          "text": [
            "True\n",
            "False\n",
            "tensor(True)\n"
          ],
          "name": "stdout"
        }
      ]
    },
    {
      "cell_type": "markdown",
      "metadata": {
        "id": "xiSmJJTA2cnx",
        "colab_type": "text"
      },
      "source": [
        "# Neural Networks\n",
        "\n",
        "Fahrenheit-Celsius Conversion Problem as illustration"
      ]
    },
    {
      "cell_type": "markdown",
      "metadata": {
        "id": "ih3_30yh2qHC",
        "colab_type": "text"
      },
      "source": [
        "## Data preparation\n",
        "\n",
        "Assuming we collected the following data over the weeks:\n",
        "\n",
        "*   `t_c`: known temperature in Celsius\n",
        "*   `t_u`: 1 wall-mounted analog thermometer without unit"
      ]
    },
    {
      "cell_type": "code",
      "metadata": {
        "id": "HOwz-Z6S2nEF",
        "colab_type": "code",
        "outputId": "32315a1f-a156-4967-d7c2-1704a9c1b1ed",
        "colab": {
          "base_uri": "https://localhost:8080/",
          "height": 255
        }
      },
      "source": [
        "t_c = [0.5,  14.0, 15.0, 28.0, 11.0,  8.0,  3.0, -4.0,  6.0, 13.0, 21.0]\n",
        "t_u = [35.7, 55.9, 58.2, 81.9, 56.3, 48.9, 33.9, 21.8, 48.4, 60.4, 68.4]\n",
        "\n",
        "print('t_u as Numpy list:', t_u)\n",
        "\n",
        "t_c = torch.tensor(t_c).unsqueeze(1) \n",
        "t_u = torch.tensor(t_u).unsqueeze(1) \n",
        "t_c = t_c.to(device)\n",
        "t_u = t_u.to(device)\n",
        "\n",
        "print(\"t_u after unsqueeze:\\n\", t_u)\n",
        "t_u.shape"
      ],
      "execution_count": 0,
      "outputs": [
        {
          "output_type": "stream",
          "text": [
            "t_u as Numpy list: [35.7, 55.9, 58.2, 81.9, 56.3, 48.9, 33.9, 21.8, 48.4, 60.4, 68.4]\n",
            "t_u after unsqueeze:\n",
            " tensor([[35.7000],\n",
            "        [55.9000],\n",
            "        [58.2000],\n",
            "        [81.9000],\n",
            "        [56.3000],\n",
            "        [48.9000],\n",
            "        [33.9000],\n",
            "        [21.8000],\n",
            "        [48.4000],\n",
            "        [60.4000],\n",
            "        [68.4000]], device='cuda:0')\n"
          ],
          "name": "stdout"
        },
        {
          "output_type": "execute_result",
          "data": {
            "text/plain": [
              "torch.Size([11, 1])"
            ]
          },
          "metadata": {
            "tags": []
          },
          "execution_count": 4
        }
      ]
    },
    {
      "cell_type": "code",
      "metadata": {
        "id": "kyH9Jkf-3B8q",
        "colab_type": "code",
        "outputId": "0644ca6c-3efb-4aaa-986e-f687712f6f8e",
        "colab": {
          "base_uri": "https://localhost:8080/",
          "height": 34
        }
      },
      "source": [
        "n_samples = t_u.shape[0]\n",
        "n_val = int(0.2 * n_samples)\n",
        "\n",
        "shuffled_indices = torch.randperm(n_samples)\n",
        "\n",
        "train_indices = shuffled_indices[:-n_val]\n",
        "val_indices = shuffled_indices[-n_val:]\n",
        "\n",
        "train_indices, val_indices"
      ],
      "execution_count": 0,
      "outputs": [
        {
          "output_type": "execute_result",
          "data": {
            "text/plain": [
              "(tensor([ 4,  1,  5, 10,  7,  9,  8,  2,  6]), tensor([0, 3]))"
            ]
          },
          "metadata": {
            "tags": []
          },
          "execution_count": 5
        }
      ]
    },
    {
      "cell_type": "code",
      "metadata": {
        "id": "tui3iHOA3IMd",
        "colab_type": "code",
        "colab": {}
      },
      "source": [
        "t_u_train = t_u[train_indices]\n",
        "t_c_train = t_c[train_indices]\n",
        "\n",
        "t_u_val = t_u[val_indices]\n",
        "t_c_val = t_c[val_indices]\n",
        "\n",
        "t_un_train = 0.1 * t_u_train\n",
        "t_un_val = 0.1 * t_u_val"
      ],
      "execution_count": 0,
      "outputs": []
    },
    {
      "cell_type": "markdown",
      "metadata": {
        "id": "f1mgkEsXJmXq",
        "colab_type": "text"
      },
      "source": [
        "## Using Neural Network model"
      ]
    },
    {
      "cell_type": "code",
      "metadata": {
        "id": "_1hkkwRw3gfj",
        "colab_type": "code",
        "colab": {}
      },
      "source": [
        "import torch.nn as nn\n",
        "dir(nn)"
      ],
      "execution_count": 0,
      "outputs": []
    },
    {
      "cell_type": "markdown",
      "metadata": {
        "id": "ryUmQUQDJ3Q-",
        "colab_type": "text"
      },
      "source": [
        "We use the simplest linear NN model with one hidden layer.\n",
        "<img src=\"https://huqy.github.io/idre-learning-deep-learning-pytorch/img/nn_c2f.svg\" alt=\"Linear NN model\" style=\"width: 500px;\"/>"
      ]
    },
    {
      "cell_type": "code",
      "metadata": {
        "id": "zdTM7yd_3yRO",
        "colab_type": "code",
        "outputId": "eb82943a-eaa3-470c-9f9a-c7b87ea7b8bf",
        "colab": {
          "base_uri": "https://localhost:8080/",
          "height": 102
        }
      },
      "source": [
        "from collections import OrderedDict\n",
        "\n",
        "seq_model = nn.Sequential(OrderedDict([\n",
        "    ('hidden_linear', nn.Linear(1, 8)),\n",
        "    ('hidden_activation', nn.Tanh()),\n",
        "    ('output_linear', nn.Linear(8, 1))\n",
        "]))\n",
        "\n",
        "seq_model.to(device)\n",
        "\n",
        "seq_model"
      ],
      "execution_count": 0,
      "outputs": [
        {
          "output_type": "execute_result",
          "data": {
            "text/plain": [
              "Sequential(\n",
              "  (hidden_linear): Linear(in_features=1, out_features=8, bias=True)\n",
              "  (hidden_activation): Tanh()\n",
              "  (output_linear): Linear(in_features=8, out_features=1, bias=True)\n",
              ")"
            ]
          },
          "metadata": {
            "tags": []
          },
          "execution_count": 8
        }
      ]
    },
    {
      "cell_type": "code",
      "metadata": {
        "id": "cF0lU1Cg39jA",
        "colab_type": "code",
        "outputId": "ab3dcbaa-523b-428f-f7de-e90c58d58a10",
        "colab": {
          "base_uri": "https://localhost:8080/",
          "height": 85
        }
      },
      "source": [
        "for name, param in seq_model.named_parameters():\n",
        "    print(name, param.shape)"
      ],
      "execution_count": 0,
      "outputs": [
        {
          "output_type": "stream",
          "text": [
            "hidden_linear.weight torch.Size([8, 1])\n",
            "hidden_linear.bias torch.Size([8])\n",
            "output_linear.weight torch.Size([1, 8])\n",
            "output_linear.bias torch.Size([1])\n"
          ],
          "name": "stdout"
        }
      ]
    },
    {
      "cell_type": "code",
      "metadata": {
        "id": "SIfs08P64C7X",
        "colab_type": "code",
        "outputId": "fc28b346-6988-455f-b7c5-14a2642ae870",
        "colab": {
          "base_uri": "https://localhost:8080/",
          "height": 51
        }
      },
      "source": [
        "seq_model.output_linear.bias"
      ],
      "execution_count": 0,
      "outputs": [
        {
          "output_type": "execute_result",
          "data": {
            "text/plain": [
              "Parameter containing:\n",
              "tensor([0.2733], device='cuda:0', requires_grad=True)"
            ]
          },
          "metadata": {
            "tags": []
          },
          "execution_count": 10
        }
      ]
    },
    {
      "cell_type": "markdown",
      "metadata": {
        "id": "U5bO7FujOap_",
        "colab_type": "text"
      },
      "source": [
        "## Training"
      ]
    },
    {
      "cell_type": "code",
      "metadata": {
        "id": "yz-mOc6g4TF2",
        "colab_type": "code",
        "colab": {}
      },
      "source": [
        "import torch.optim as optim\n",
        "dir(optim)"
      ],
      "execution_count": 0,
      "outputs": []
    },
    {
      "cell_type": "code",
      "metadata": {
        "id": "cmjdNO6r4bYB",
        "colab_type": "code",
        "colab": {}
      },
      "source": [
        "def training_loop(n_epochs, optimizer, model, loss_fn, t_u_train, t_u_val, t_c_train, t_c_val):\n",
        "    for epoch in range(1, n_epochs + 1):\n",
        "\n",
        "        t_p_train = model(t_u_train) \n",
        "        loss_train = loss_fn(t_p_train, t_c_train)\n",
        "\n",
        "        t_p_val = model(t_u_val) \n",
        "        loss_val = loss_fn(t_p_val, t_c_val)\n",
        "        \n",
        "        optimizer.zero_grad()\n",
        "        loss_train.backward() \n",
        "        optimizer.step()\n",
        "\n",
        "        if epoch == 1 or epoch % 1000 == 0:\n",
        "            print('Epoch {}, Training loss {}, Validation loss {}'.format(\n",
        "                epoch, float(loss_train), float(loss_val)))"
      ],
      "execution_count": 0,
      "outputs": []
    },
    {
      "cell_type": "code",
      "metadata": {
        "id": "JCsYuvb24GyK",
        "colab_type": "code",
        "outputId": "f166f265-d021-4be2-c4b8-584803123b38",
        "colab": {
          "base_uri": "https://localhost:8080/",
          "height": 323
        }
      },
      "source": [
        "optimizer = optim.SGD(seq_model.parameters(), lr=1e-3) \n",
        "\n",
        "training_loop(\n",
        "    n_epochs = 5000, \n",
        "    optimizer = optimizer,\n",
        "    model = seq_model,\n",
        "    loss_fn = nn.MSELoss(),\n",
        "    t_u_train = t_un_train,\n",
        "    t_u_val = t_un_val, \n",
        "    t_c_train = t_c_train,\n",
        "    t_c_val = t_c_val)\n",
        "    \n",
        "print('output', seq_model(t_un_val))\n",
        "print('answer', t_c_val)\n",
        "print('hidden', seq_model.hidden_linear.weight.grad)"
      ],
      "execution_count": 0,
      "outputs": [
        {
          "output_type": "stream",
          "text": [
            "Epoch 1, Training loss 141.8383331298828, Validation loss 391.21673583984375\n",
            "Epoch 1000, Training loss 4.872678756713867, Validation loss 47.90406799316406\n",
            "Epoch 2000, Training loss 3.5751283168792725, Validation loss 28.47532844543457\n",
            "Epoch 3000, Training loss 2.8766727447509766, Validation loss 18.116960525512695\n",
            "Epoch 4000, Training loss 3.833078622817993, Validation loss 11.266538619995117\n",
            "Epoch 5000, Training loss 2.995079278945923, Validation loss 9.13658332824707\n",
            "output tensor([[ 1.6577],\n",
            "        [23.1670]], device='cuda:0', grad_fn=<AddmmBackward>)\n",
            "answer tensor([[ 0.5000],\n",
            "        [28.0000]], device='cuda:0')\n",
            "hidden tensor([[ -0.1576],\n",
            "        [  0.8058],\n",
            "        [-26.5278],\n",
            "        [-24.1316],\n",
            "        [ -0.2795],\n",
            "        [ 25.6697],\n",
            "        [ 26.6822],\n",
            "        [  1.1383]], device='cuda:0')\n"
          ],
          "name": "stdout"
        }
      ]
    },
    {
      "cell_type": "code",
      "metadata": {
        "id": "m5knIqr04hVS",
        "colab_type": "code",
        "outputId": "0ef4f315-6e0d-438c-d3ef-d5c972454754",
        "colab": {
          "base_uri": "https://localhost:8080/",
          "height": 764
        }
      },
      "source": [
        "from matplotlib import pyplot as plt\n",
        "\n",
        "t_range = torch.arange(20., 90.).unsqueeze(1)\n",
        "t_range = t_range.to(device)\n",
        "\n",
        "fig = plt.figure(dpi=200)\n",
        "plt.xlabel(\"Fahrenheit\")\n",
        "plt.ylabel(\"Celsius\")\n",
        "plt.plot(t_u.cpu().numpy(), t_c.cpu().numpy(), 'o')\n",
        "plt.plot(t_range.cpu().numpy(), seq_model(0.1 * t_range).detach().cpu().numpy(), 'c-')\n",
        "plt.plot(t_u.cpu().numpy(), seq_model(0.1 * t_u).detach().cpu().numpy(), 'kx')"
      ],
      "execution_count": 0,
      "outputs": [
        {
          "output_type": "execute_result",
          "data": {
            "text/plain": [
              "[<matplotlib.lines.Line2D at 0x7f5ae4f3dc18>]"
            ]
          },
          "metadata": {
            "tags": []
          },
          "execution_count": 31
        },
        {
          "output_type": "display_data",
          "data": {
            "image/png": "[encoded data removed]",
            "text/plain": [
              "<Figure size 1200x800 with 1 Axes>"
            ]
          },
          "metadata": {
            "tags": []
          }
        }
      ]
    }
  ]
}
